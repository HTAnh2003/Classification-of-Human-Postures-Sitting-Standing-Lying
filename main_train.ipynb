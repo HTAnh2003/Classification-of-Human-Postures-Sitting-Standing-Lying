{
 "cells": [
  {
   "cell_type": "code",
   "execution_count": 1,
   "metadata": {},
   "outputs": [],
   "source": [
    "import cv2\n",
    "import mediapipe as mp\n",
    "import cv2\n",
    "import numpy as np\n",
    "import glob\n",
    "import json\n",
    "import pandas as pd\n",
    "import matplotlib.pyplot as plt\n"
   ]
  },
  {
   "cell_type": "code",
   "execution_count": 2,
   "metadata": {},
   "outputs": [],
   "source": [
    "# Initializing mediapipe pose class.\n",
    "mp_pose = mp.solutions.pose\n",
    "\n",
    "# Setting up the Pose function.\n",
    "pose = mp_pose.Pose(static_image_mode=True, min_detection_confidence=0.1, model_complexity=2)\n",
    "\n",
    "# Initializing mediapipe drawing class, useful for annotation.\n",
    "mp_drawing = mp.solutions.drawing_utils "
   ]
  },
  {
   "cell_type": "code",
   "execution_count": 3,
   "metadata": {},
   "outputs": [],
   "source": [
    "hog = cv2.HOGDescriptor()"
   ]
  },
  {
   "cell_type": "code",
   "execution_count": 4,
   "metadata": {},
   "outputs": [],
   "source": [
    "SIZE_IMG = (75, 50)"
   ]
  },
  {
   "cell_type": "code",
   "execution_count": 5,
   "metadata": {},
   "outputs": [
    {
     "name": "stdout",
     "output_type": "stream",
     "text": [
      "Kích thước bức ảnh crop theo winSize (pixel):  (72, 48)\n",
      "Kích thước của 1 block (pixel):  (16, 16)\n",
      "Kích thước của block stride (pixel):  (8, 8)\n"
     ]
    }
   ],
   "source": [
    "# 1. Khai báo các tham số\n",
    "cell_size = (8, 8)  # h x w in pixels\n",
    "block_size = (2, 2)  # h x w in cells\n",
    "nbins = 9  # number of orientation bins\n",
    "\n",
    "# 2. Tính toán các tham số truyền vào HOGDescriptor\n",
    "# winSize: Kích thước của bức ảnh được crop để chia hết cho cell size.\n",
    "winSize = (SIZE_IMG[0] // cell_size[1] * cell_size[1], SIZE_IMG[1] // cell_size[0] * cell_size[0])\n",
    "# blockSize: Kích thước của 1 block\n",
    "blockSize = (block_size[1] * cell_size[1], block_size[0] * cell_size[0])\n",
    "# blockStride: Số bước di chuyển của block khi thực hiện chuẩn hóa histogram bước 3\n",
    "blockStride = (cell_size[1], cell_size[0])\n",
    "print('Kích thước bức ảnh crop theo winSize (pixel): ', winSize)\n",
    "print('Kích thước của 1 block (pixel): ', blockSize)\n",
    "print('Kích thước của block stride (pixel): ', blockStride)\n",
    "\n",
    "# 3. Compute HOG descriptor\n",
    "hog = cv2.HOGDescriptor(_winSize=winSize,\n",
    "                        _blockSize=blockSize,\n",
    "                        _blockStride=blockStride,\n",
    "                        _cellSize=cell_size,\n",
    "                        _nbins=nbins)"
   ]
  },
  {
   "cell_type": "code",
   "execution_count": 6,
   "metadata": {},
   "outputs": [],
   "source": [
    "SIZE_IMG = (25, 25)"
   ]
  },
  {
   "cell_type": "code",
   "execution_count": 7,
   "metadata": {},
   "outputs": [],
   "source": [
    "def detectPose(image):\n",
    "    '''\n",
    "    This function performs pose detection on an image.\n",
    "    Args:\n",
    "        image: The input image with a prominent person whose pose landmarks needs to be detected.\n",
    "        pose: The pose setup function required to perform the pose detection.\n",
    "        display: A boolean value that is if set to true the function displays the original input image, the resultant image, \n",
    "                 and the pose landmarks in 3D plot and returns nothing.\n",
    "    Returns:\n",
    "        output_image: The input image with the detected pose landmarks drawn.\n",
    "        landmarks: A list of detected landmarks converted into their original scale.\n",
    "    '''\n",
    "    # # Create a copy of the input image.\n",
    "    white_image = np.zeros_like(image) \n",
    "    # # Convert the image from BGR into RGB format.\n",
    "    imageRGB = cv2.cvtColor(image, cv2.COLOR_BGR2RGB)\n",
    "\n",
    "    \n",
    "    # Perform the Pose Detection.\n",
    "    results = pose.process(imageRGB)\n",
    "    \n",
    "    # Draw Pose landmarks on the output image.\n",
    "    # mp_drawing.draw_landmarks(image=white_image, landmark_list=results.pose_landmarks,\n",
    "    #                             connections=mp_pose.POSE_CONNECTIONS)\n",
    "    \n",
    "    xs = []\n",
    "    ys = []\n",
    "    # Kiểm tra xem có landmarks không\n",
    "    if results.pose_landmarks:\n",
    "        # Lặp qua các điểm landmarks và in tọa độ của chúng\n",
    "        height, width, _ = image.shape\n",
    "        for landmark in results.pose_landmarks.landmark:\n",
    "            # x, y = int(landmark.x * width), int(landmark.y * height)\n",
    "            # replace null equal 0\n",
    "            xs.append(landmark.x)\n",
    "            ys.append(landmark.y)\n",
    "    \n",
    "    # print(len(xs))\n",
    "    # if len(xs) != 0:\n",
    "    #     x_max, x_min = max(np.max(xs), 0), max(np.min(xs), 0)\n",
    "    #     y_max, y_min = max(0, np.max(ys)), max(np.min(ys), 0)\n",
    "    #     image = cv2.resize(white_image[y_min: y_max + 10, x_min:x_max + 10], SIZE_IMG)\n",
    "    # else :\n",
    "    #     image = cv2.resize(white_image, SIZE_IMG)\n",
    "\n",
    "    # cv2.imwrite(\"image_test.png\", image)\n",
    "    # # Reshape hog feature\n",
    "    # # hog_feats = hog.compute(image)\n",
    "    \n",
    "    # image = cv2.cvtColor(image, cv2.COLOR_BGR2GRAY)\n",
    "    # image = image/255.0\n",
    "\n",
    "    return xs + ys"
   ]
  },
  {
   "cell_type": "code",
   "execution_count": 8,
   "metadata": {},
   "outputs": [],
   "source": [
    "def drawDetectPose(image):\n",
    "    '''\n",
    "    This function performs pose detection on an image.\n",
    "    Args:\n",
    "        image: The input image with a prominent person whose pose landmarks needs to be detected.\n",
    "        pose: The pose setup function required to perform the pose detection.\n",
    "        display: A boolean value that is if set to true the function displays the original input image, the resultant image, \n",
    "                 and the pose landmarks in 3D plot and returns nothing.\n",
    "    Returns:\n",
    "        output_image: The input image with the detected pose landmarks drawn.\n",
    "        landmarks: A list of detected landmarks converted into their original scale.\n",
    "    '''\n",
    "    # # Convert the image from BGR into RGB format.\n",
    "    imageRGB = cv2.cvtColor(image, cv2.COLOR_BGR2RGB)\n",
    "\n",
    "    \n",
    "    # Perform the Pose Detection.\n",
    "    results = pose.process(imageRGB)\n",
    "    \n",
    "    # Draw Pose landmarks on the output image.\n",
    "    mp_drawing.draw_landmarks(image=image, landmark_list=results.pose_landmarks,\n",
    "                                connections=mp_pose.POSE_CONNECTIONS)\n",
    "    \n",
    "    # Save image\n",
    "    # cv2.imwrite(\"frame1_2400.png\", image)\n",
    "\n",
    "    # show image\n",
    "    plt.imshow(image)\n"
   ]
  },
  {
   "cell_type": "code",
   "execution_count": 9,
   "metadata": {},
   "outputs": [
    {
     "data": {
      "image/png": "[encoded data removed]",
      "text/plain": [
       "<Figure size 640x480 with 1 Axes>"
      ]
     },
     "metadata": {},
     "output_type": "display_data"
    }
   ],
   "source": [
    "drawDetectPose(cv2.imread(r\"D:\\HocTap\\HK2_Nam3\\ML\\Final-machine-learning\\Label_data\\STAND\\frame1_2400.png\"))"
   ]
  },
  {
   "cell_type": "code",
   "execution_count": 10,
   "metadata": {},
   "outputs": [
    {
     "data": {
      "text/html": [
       "<div>\n",
       "<style scoped>\n",
       "    .dataframe tbody tr th:only-of-type {\n",
       "        vertical-align: middle;\n",
       "    }\n",
       "\n",
       "    .dataframe tbody tr th {\n",
       "        vertical-align: top;\n",
       "    }\n",
       "\n",
       "    .dataframe thead th {\n",
       "        text-align: right;\n",
       "    }\n",
       "</style>\n",
       "<table border=\"1\" class=\"dataframe\">\n",
       "  <thead>\n",
       "    <tr style=\"text-align: right;\">\n",
       "      <th></th>\n",
       "      <th>0</th>\n",
       "      <th>1</th>\n",
       "      <th>2</th>\n",
       "      <th>3</th>\n",
       "      <th>4</th>\n",
       "      <th>5</th>\n",
       "      <th>6</th>\n",
       "      <th>7</th>\n",
       "      <th>8</th>\n",
       "      <th>9</th>\n",
       "      <th>...</th>\n",
       "      <th>56</th>\n",
       "      <th>57</th>\n",
       "      <th>58</th>\n",
       "      <th>59</th>\n",
       "      <th>60</th>\n",
       "      <th>61</th>\n",
       "      <th>62</th>\n",
       "      <th>63</th>\n",
       "      <th>64</th>\n",
       "      <th>65</th>\n",
       "    </tr>\n",
       "  </thead>\n",
       "  <tbody>\n",
       "    <tr>\n",
       "      <th>0</th>\n",
       "      <td>0.349697</td>\n",
       "      <td>0.339983</td>\n",
       "      <td>0.339356</td>\n",
       "      <td>0.338889</td>\n",
       "      <td>0.339676</td>\n",
       "      <td>0.338909</td>\n",
       "      <td>0.338215</td>\n",
       "      <td>0.339065</td>\n",
       "      <td>0.339037</td>\n",
       "      <td>0.35532</td>\n",
       "      <td>...</td>\n",
       "      <td>0.558517</td>\n",
       "      <td>0.557992</td>\n",
       "      <td>0.555640</td>\n",
       "      <td>0.455448</td>\n",
       "      <td>0.567590</td>\n",
       "      <td>0.592514</td>\n",
       "      <td>0.582997</td>\n",
       "      <td>0.613375</td>\n",
       "      <td>0.534586</td>\n",
       "      <td>0.596352</td>\n",
       "    </tr>\n",
       "    <tr>\n",
       "      <th>1</th>\n",
       "      <td>0.349097</td>\n",
       "      <td>0.344431</td>\n",
       "      <td>0.345618</td>\n",
       "      <td>0.346826</td>\n",
       "      <td>0.342847</td>\n",
       "      <td>0.342918</td>\n",
       "      <td>0.342915</td>\n",
       "      <td>0.355319</td>\n",
       "      <td>0.349948</td>\n",
       "      <td>0.35860</td>\n",
       "      <td>...</td>\n",
       "      <td>0.749584</td>\n",
       "      <td>0.726949</td>\n",
       "      <td>0.688137</td>\n",
       "      <td>0.685364</td>\n",
       "      <td>0.617907</td>\n",
       "      <td>0.621437</td>\n",
       "      <td>0.591858</td>\n",
       "      <td>0.594611</td>\n",
       "      <td>0.668399</td>\n",
       "      <td>0.668285</td>\n",
       "    </tr>\n",
       "  </tbody>\n",
       "</table>\n",
       "<p>2 rows × 66 columns</p>\n",
       "</div>"
      ],
      "text/plain": [
       "         0         1         2         3         4         5         6   \\\n",
       "0  0.349697  0.339983  0.339356  0.338889  0.339676  0.338909  0.338215   \n",
       "1  0.349097  0.344431  0.345618  0.346826  0.342847  0.342918  0.342915   \n",
       "\n",
       "         7         8        9   ...        56        57        58        59  \\\n",
       "0  0.339065  0.339037  0.35532  ...  0.558517  0.557992  0.555640  0.455448   \n",
       "1  0.355319  0.349948  0.35860  ...  0.749584  0.726949  0.688137  0.685364   \n",
       "\n",
       "         60        61        62        63        64        65  \n",
       "0  0.567590  0.592514  0.582997  0.613375  0.534586  0.596352  \n",
       "1  0.617907  0.621437  0.591858  0.594611  0.668399  0.668285  \n",
       "\n",
       "[2 rows x 66 columns]"
      ]
     },
     "execution_count": 10,
     "metadata": {},
     "output_type": "execute_result"
    }
   ],
   "source": [
    "a = detectPose(cv2.imread(r\"Label_data\\LIE\\fall001.jpg\"))\n",
    "b = detectPose(cv2.imread(r\"Label_data\\LIE\\Screenshot 2023-12-19 125800.png\"))\n",
    " \n",
    "# create a DataFrame\n",
    "df = pd.DataFrame([a, b])\n",
    "df"
   ]
  },
  {
   "cell_type": "code",
   "execution_count": 11,
   "metadata": {},
   "outputs": [
    {
     "name": "stdout",
     "output_type": "stream",
     "text": [
      "landmark {\n",
      "  x: 0.34969717264175415\n",
      "  y: 0.5419737696647644\n",
      "  z: -0.017158519476652145\n",
      "  visibility: 0.9999961853027344\n",
      "}\n",
      "landmark {\n",
      "  x: 0.3399832844734192\n",
      "  y: 0.5448083281517029\n",
      "  z: -0.002837433712556958\n",
      "  visibility: 0.9999946355819702\n",
      "}\n",
      "landmark {\n",
      "  x: 0.3393557667732239\n",
      "  y: 0.5457379817962646\n",
      "  z: -0.003044126322492957\n",
      "  visibility: 0.9999943971633911\n",
      "}\n",
      "landmark {\n",
      "  x: 0.33888858556747437\n",
      "  y: 0.5465428829193115\n",
      "  z: -0.002990557812154293\n",
      "  visibility: 0.9999973773956299\n",
      "}\n",
      "landmark {\n",
      "  x: 0.3396756649017334\n",
      "  y: 0.5475500822067261\n",
      "  z: -0.029329344630241394\n",
      "  visibility: 0.9999949932098389\n",
      "}\n",
      "landmark {\n",
      "  x: 0.3389087915420532\n",
      "  y: 0.550218403339386\n",
      "  z: -0.029520198702812195\n",
      "  visibility: 0.9999934434890747\n",
      "}\n",
      "landmark {\n",
      "  x: 0.3382149934768677\n",
      "  y: 0.552606999874115\n",
      "  z: -0.02955859713256359\n",
      "  visibility: 0.9999909400939941\n",
      "}\n",
      "landmark {\n",
      "  x: 0.3390651345252991\n",
      "  y: 0.5579068064689636\n",
      "  z: 0.0643407478928566\n",
      "  visibility: 0.9999988079071045\n",
      "}\n",
      "landmark {\n",
      "  x: 0.3390365540981293\n",
      "  y: 0.5652929544448853\n",
      "  z: -0.056163229048252106\n",
      "  visibility: 0.9999825954437256\n",
      "}\n",
      "landmark {\n",
      "  x: 0.3553200662136078\n",
      "  y: 0.5474748611450195\n",
      "  z: 0.012109210714697838\n",
      "  visibility: 0.9999867677688599\n",
      "}\n",
      "landmark {\n",
      "  x: 0.3551919460296631\n",
      "  y: 0.5504969358444214\n",
      "  z: -0.024058662354946136\n",
      "  visibility: 0.9999631643295288\n",
      "}\n",
      "landmark {\n",
      "  x: 0.37647712230682373\n",
      "  y: 0.568257212638855\n",
      "  z: 0.16748124361038208\n",
      "  visibility: 0.9999853372573853\n",
      "}\n",
      "landmark {\n",
      "  x: 0.36822640895843506\n",
      "  y: 0.5831853151321411\n",
      "  z: -0.11208756268024445\n",
      "  visibility: 0.9994981288909912\n",
      "}\n",
      "landmark {\n",
      "  x: 0.41861236095428467\n",
      "  y: 0.5282936692237854\n",
      "  z: 0.24437785148620605\n",
      "  visibility: 0.09112334251403809\n",
      "}\n",
      "landmark {\n",
      "  x: 0.3262246549129486\n",
      "  y: 0.511116087436676\n",
      "  z: -0.08959393948316574\n",
      "  visibility: 0.9524658918380737\n",
      "}\n",
      "landmark {\n",
      "  x: 0.4614846706390381\n",
      "  y: 0.5246061682701111\n",
      "  z: 0.23934826254844666\n",
      "  visibility: 0.29123222827911377\n",
      "}\n",
      "landmark {\n",
      "  x: 0.32730191946029663\n",
      "  y: 0.5581707954406738\n",
      "  z: 0.06814892590045929\n",
      "  visibility: 0.5547589659690857\n",
      "}\n",
      "landmark {\n",
      "  x: 0.474289208650589\n",
      "  y: 0.5157568454742432\n",
      "  z: 0.25529229640960693\n",
      "  visibility: 0.3522067368030548\n",
      "}\n",
      "landmark {\n",
      "  x: 0.32123053073883057\n",
      "  y: 0.5686102509498596\n",
      "  z: 0.07073234021663666\n",
      "  visibility: 0.4689006507396698\n",
      "}\n",
      "landmark {\n",
      "  x: 0.47293031215667725\n",
      "  y: 0.5179014205932617\n",
      "  z: 0.23283618688583374\n",
      "  visibility: 0.35528337955474854\n",
      "}\n",
      "landmark {\n",
      "  x: 0.3275949954986572\n",
      "  y: 0.5771418809890747\n",
      "  z: 0.07457469403743744\n",
      "  visibility: 0.4464070498943329\n",
      "}\n",
      "landmark {\n",
      "  x: 0.46766120195388794\n",
      "  y: 0.5208436250686646\n",
      "  z: 0.23064973950386047\n",
      "  visibility: 0.3449428677558899\n",
      "}\n",
      "landmark {\n",
      "  x: 0.32769766449928284\n",
      "  y: 0.5746640563011169\n",
      "  z: 0.0726645365357399\n",
      "  visibility: 0.42732733488082886\n",
      "}\n",
      "landmark {\n",
      "  x: 0.5046448707580566\n",
      "  y: 0.5585172772407532\n",
      "  z: 0.09413054585456848\n",
      "  visibility: 0.9999963045120239\n",
      "}\n",
      "landmark {\n",
      "  x: 0.5028285980224609\n",
      "  y: 0.5579916834831238\n",
      "  z: -0.09433877468109131\n",
      "  visibility: 0.999983549118042\n",
      "}\n",
      "landmark {\n",
      "  x: 0.5947607159614563\n",
      "  y: 0.5556398630142212\n",
      "  z: 0.10550332814455032\n",
      "  visibility: 0.9591600894927979\n",
      "}\n",
      "landmark {\n",
      "  x: 0.5649861097335815\n",
      "  y: 0.4554482400417328\n",
      "  z: -0.136570543050766\n",
      "  visibility: 0.998180627822876\n",
      "}\n",
      "landmark {\n",
      "  x: 0.6905170679092407\n",
      "  y: 0.5675896406173706\n",
      "  z: 0.09199494123458862\n",
      "  visibility: 0.9973959922790527\n",
      "}\n",
      "landmark {\n",
      "  x: 0.5852110981941223\n",
      "  y: 0.5925140976905823\n",
      "  z: 0.019901445135474205\n",
      "  visibility: 0.983368456363678\n",
      "}\n",
      "landmark {\n",
      "  x: 0.7059537172317505\n",
      "  y: 0.5829973220825195\n",
      "  z: 0.08574228733778\n",
      "  visibility: 0.9936570525169373\n",
      "}\n",
      "landmark {\n",
      "  x: 0.5783417224884033\n",
      "  y: 0.6133748292922974\n",
      "  z: 0.03689011186361313\n",
      "  visibility: 0.9497847557067871\n",
      "}\n",
      "landmark {\n",
      "  x: 0.7101426124572754\n",
      "  y: 0.5345855951309204\n",
      "  z: 0.04100986570119858\n",
      "  visibility: 0.9973188042640686\n",
      "}\n",
      "landmark {\n",
      "  x: 0.627521276473999\n",
      "  y: 0.5963519811630249\n",
      "  z: 0.053545862436294556\n",
      "  visibility: 0.985042929649353\n",
      "}\n",
      "\n"
     ]
    }
   ],
   "source": [
    "img = cv2.imread(r\"Label_data\\LIE\\fall001.jpg\")\n",
    "white_img = np.zeros_like(img)\n",
    "imageRGB = cv2.cvtColor(img, cv2.COLOR_BGR2RGB)\n",
    "results = pose.process(imageRGB)\n",
    "print(results.pose_landmarks)\n",
    "if results.pose_landmarks:\n",
    "    # Lặp qua các điểm landmarks và in tọa độ của chúng\n",
    "    height, width, _ = img.shape\n",
    "    xs = []\n",
    "    ys = []\n",
    "    for landmark in results.pose_landmarks.landmark:\n",
    "        x, y = int(landmark.x * width), int(landmark.y * height)\n",
    "        xs.append(landmark.x)\n",
    "        ys.append(landmark.y)\n"
   ]
  },
  {
   "cell_type": "code",
   "execution_count": 9,
   "metadata": {},
   "outputs": [],
   "source": [
    "data_lie = glob.glob(\"./Label_data/LIE/*\")"
   ]
  },
  {
   "cell_type": "code",
   "execution_count": 10,
   "metadata": {},
   "outputs": [],
   "source": [
    "features_lie = []\n",
    "for path in data_lie:\n",
    "    image = cv2.imread(path)\n",
    "    # image.shape (183, 275, 3)\n",
    "    image = cv2.resize(image, (275, 183))\n",
    "    result = detectPose(image)\n",
    "    # print(result.shape)\n",
    "    features_lie.append(result)\n",
    "    # break"
   ]
  },
  {
   "cell_type": "code",
   "execution_count": 11,
   "metadata": {},
   "outputs": [],
   "source": [
    "data_STAND = glob.glob(\"./Label_data/STAND/*\")\n",
    "features_STAND = []\n",
    "for path in data_STAND:\n",
    "\n",
    "    image = cv2.imread(path)\n",
    "    image = cv2.resize(image, (275, 183))\n",
    "\n",
    "    result = detectPose(image)\n",
    " \n",
    "    features_STAND.append(result)"
   ]
  },
  {
   "cell_type": "code",
   "execution_count": 12,
   "metadata": {},
   "outputs": [],
   "source": [
    "data_SIT = glob.glob(\"./Label_data/SIT/*\")\n",
    "\n",
    "features_SIT = []\n",
    "for path in data_SIT:\n",
    "    image = cv2.imread(path)\n",
    "    image = cv2.resize(image, (275, 183))\n",
    "\n",
    "    result = detectPose(image)\n",
    " \n",
    "    features_SIT.append(result)"
   ]
  },
  {
   "cell_type": "code",
   "execution_count": 14,
   "metadata": {},
   "outputs": [],
   "source": [
    "sit= pd.DataFrame(features_SIT)\n",
    "stand= pd.DataFrame(features_STAND)\n",
    "lie = pd.DataFrame(features_lie)"
   ]
  },
  {
   "cell_type": "code",
   "execution_count": 30,
   "metadata": {},
   "outputs": [],
   "source": [
    "# # Lưu dữ liệu\n",
    "# sit.to_csv(\"sit.csv\", index=False)\n",
    "# stand.to_csv(\"stand.csv\", index=False)\n",
    "# lie.to_csv(\"lie.csv\", index=False)"
   ]
  },
  {
   "cell_type": "code",
   "execution_count": 12,
   "metadata": {},
   "outputs": [],
   "source": [
    "# # đọc dữ liệu\n",
    "# sit = pd.read_csv(\"sit.csv\")\n",
    "# stand = pd.read_csv(\"stand.csv\")\n",
    "# lie = pd.read_csv(\"lie.csv\")"
   ]
  },
  {
   "cell_type": "code",
   "execution_count": 32,
   "metadata": {},
   "outputs": [
    {
     "data": {
      "text/html": [
       "<div>\n",
       "<style scoped>\n",
       "    .dataframe tbody tr th:only-of-type {\n",
       "        vertical-align: middle;\n",
       "    }\n",
       "\n",
       "    .dataframe tbody tr th {\n",
       "        vertical-align: top;\n",
       "    }\n",
       "\n",
       "    .dataframe thead th {\n",
       "        text-align: right;\n",
       "    }\n",
       "</style>\n",
       "<table border=\"1\" class=\"dataframe\">\n",
       "  <thead>\n",
       "    <tr style=\"text-align: right;\">\n",
       "      <th></th>\n",
       "      <th>0</th>\n",
       "      <th>1</th>\n",
       "      <th>2</th>\n",
       "      <th>3</th>\n",
       "      <th>4</th>\n",
       "      <th>5</th>\n",
       "      <th>6</th>\n",
       "      <th>7</th>\n",
       "      <th>8</th>\n",
       "      <th>9</th>\n",
       "      <th>...</th>\n",
       "      <th>56</th>\n",
       "      <th>57</th>\n",
       "      <th>58</th>\n",
       "      <th>59</th>\n",
       "      <th>60</th>\n",
       "      <th>61</th>\n",
       "      <th>62</th>\n",
       "      <th>63</th>\n",
       "      <th>64</th>\n",
       "      <th>65</th>\n",
       "    </tr>\n",
       "  </thead>\n",
       "  <tbody>\n",
       "    <tr>\n",
       "      <th>0</th>\n",
       "      <td>0.485436</td>\n",
       "      <td>0.491076</td>\n",
       "      <td>0.492672</td>\n",
       "      <td>0.495898</td>\n",
       "      <td>0.484701</td>\n",
       "      <td>0.480690</td>\n",
       "      <td>0.478701</td>\n",
       "      <td>0.504215</td>\n",
       "      <td>0.459930</td>\n",
       "      <td>0.489268</td>\n",
       "      <td>...</td>\n",
       "      <td>0.241237</td>\n",
       "      <td>0.233786</td>\n",
       "      <td>0.379103</td>\n",
       "      <td>0.349344</td>\n",
       "      <td>0.448858</td>\n",
       "      <td>0.410068</td>\n",
       "      <td>0.448141</td>\n",
       "      <td>0.406550</td>\n",
       "      <td>0.516652</td>\n",
       "      <td>0.473009</td>\n",
       "    </tr>\n",
       "    <tr>\n",
       "      <th>1</th>\n",
       "      <td>0.538939</td>\n",
       "      <td>0.541082</td>\n",
       "      <td>0.545321</td>\n",
       "      <td>0.548543</td>\n",
       "      <td>0.531356</td>\n",
       "      <td>0.526921</td>\n",
       "      <td>0.523388</td>\n",
       "      <td>0.547487</td>\n",
       "      <td>0.514275</td>\n",
       "      <td>0.544556</td>\n",
       "      <td>...</td>\n",
       "      <td>0.511923</td>\n",
       "      <td>0.514108</td>\n",
       "      <td>0.701264</td>\n",
       "      <td>0.701886</td>\n",
       "      <td>0.863484</td>\n",
       "      <td>0.874072</td>\n",
       "      <td>0.884246</td>\n",
       "      <td>0.893225</td>\n",
       "      <td>0.921288</td>\n",
       "      <td>0.937136</td>\n",
       "    </tr>\n",
       "    <tr>\n",
       "      <th>2</th>\n",
       "      <td>0.538487</td>\n",
       "      <td>0.540775</td>\n",
       "      <td>0.545152</td>\n",
       "      <td>0.548587</td>\n",
       "      <td>0.531299</td>\n",
       "      <td>0.527188</td>\n",
       "      <td>0.523476</td>\n",
       "      <td>0.547310</td>\n",
       "      <td>0.514200</td>\n",
       "      <td>0.543122</td>\n",
       "      <td>...</td>\n",
       "      <td>0.501320</td>\n",
       "      <td>0.503325</td>\n",
       "      <td>0.696693</td>\n",
       "      <td>0.699625</td>\n",
       "      <td>0.863796</td>\n",
       "      <td>0.872697</td>\n",
       "      <td>0.888294</td>\n",
       "      <td>0.895021</td>\n",
       "      <td>0.923210</td>\n",
       "      <td>0.938202</td>\n",
       "    </tr>\n",
       "    <tr>\n",
       "      <th>3</th>\n",
       "      <td>0.534376</td>\n",
       "      <td>0.536909</td>\n",
       "      <td>0.541130</td>\n",
       "      <td>0.544502</td>\n",
       "      <td>0.526705</td>\n",
       "      <td>0.522845</td>\n",
       "      <td>0.519051</td>\n",
       "      <td>0.545624</td>\n",
       "      <td>0.510163</td>\n",
       "      <td>0.539722</td>\n",
       "      <td>...</td>\n",
       "      <td>0.507434</td>\n",
       "      <td>0.506629</td>\n",
       "      <td>0.699450</td>\n",
       "      <td>0.697273</td>\n",
       "      <td>0.863291</td>\n",
       "      <td>0.869558</td>\n",
       "      <td>0.888832</td>\n",
       "      <td>0.893996</td>\n",
       "      <td>0.922597</td>\n",
       "      <td>0.932775</td>\n",
       "    </tr>\n",
       "    <tr>\n",
       "      <th>4</th>\n",
       "      <td>0.534185</td>\n",
       "      <td>0.536881</td>\n",
       "      <td>0.540584</td>\n",
       "      <td>0.544362</td>\n",
       "      <td>0.526786</td>\n",
       "      <td>0.523106</td>\n",
       "      <td>0.519260</td>\n",
       "      <td>0.544385</td>\n",
       "      <td>0.510132</td>\n",
       "      <td>0.538679</td>\n",
       "      <td>...</td>\n",
       "      <td>0.507436</td>\n",
       "      <td>0.507225</td>\n",
       "      <td>0.698847</td>\n",
       "      <td>0.701406</td>\n",
       "      <td>0.861969</td>\n",
       "      <td>0.870711</td>\n",
       "      <td>0.886882</td>\n",
       "      <td>0.894640</td>\n",
       "      <td>0.920795</td>\n",
       "      <td>0.934262</td>\n",
       "    </tr>\n",
       "    <tr>\n",
       "      <th>...</th>\n",
       "      <td>...</td>\n",
       "      <td>...</td>\n",
       "      <td>...</td>\n",
       "      <td>...</td>\n",
       "      <td>...</td>\n",
       "      <td>...</td>\n",
       "      <td>...</td>\n",
       "      <td>...</td>\n",
       "      <td>...</td>\n",
       "      <td>...</td>\n",
       "      <td>...</td>\n",
       "      <td>...</td>\n",
       "      <td>...</td>\n",
       "      <td>...</td>\n",
       "      <td>...</td>\n",
       "      <td>...</td>\n",
       "      <td>...</td>\n",
       "      <td>...</td>\n",
       "      <td>...</td>\n",
       "      <td>...</td>\n",
       "      <td>...</td>\n",
       "    </tr>\n",
       "    <tr>\n",
       "      <th>1025</th>\n",
       "      <td>0.601386</td>\n",
       "      <td>0.599138</td>\n",
       "      <td>0.594523</td>\n",
       "      <td>0.591196</td>\n",
       "      <td>0.609900</td>\n",
       "      <td>0.613605</td>\n",
       "      <td>0.619883</td>\n",
       "      <td>0.585218</td>\n",
       "      <td>0.629909</td>\n",
       "      <td>0.594849</td>\n",
       "      <td>...</td>\n",
       "      <td>0.455367</td>\n",
       "      <td>0.444362</td>\n",
       "      <td>0.647013</td>\n",
       "      <td>0.679698</td>\n",
       "      <td>0.835275</td>\n",
       "      <td>0.910994</td>\n",
       "      <td>0.878211</td>\n",
       "      <td>0.929477</td>\n",
       "      <td>0.877495</td>\n",
       "      <td>0.928804</td>\n",
       "    </tr>\n",
       "    <tr>\n",
       "      <th>1026</th>\n",
       "      <td>0.603582</td>\n",
       "      <td>0.608215</td>\n",
       "      <td>0.611376</td>\n",
       "      <td>0.614838</td>\n",
       "      <td>0.600846</td>\n",
       "      <td>0.598566</td>\n",
       "      <td>0.595752</td>\n",
       "      <td>0.622950</td>\n",
       "      <td>0.596521</td>\n",
       "      <td>0.611484</td>\n",
       "      <td>...</td>\n",
       "      <td>0.496380</td>\n",
       "      <td>0.491298</td>\n",
       "      <td>0.646302</td>\n",
       "      <td>0.634541</td>\n",
       "      <td>0.805225</td>\n",
       "      <td>0.786427</td>\n",
       "      <td>0.828163</td>\n",
       "      <td>0.812358</td>\n",
       "      <td>0.840161</td>\n",
       "      <td>0.815633</td>\n",
       "    </tr>\n",
       "    <tr>\n",
       "      <th>1027</th>\n",
       "      <td>0.570172</td>\n",
       "      <td>0.571512</td>\n",
       "      <td>0.573297</td>\n",
       "      <td>0.575214</td>\n",
       "      <td>0.568169</td>\n",
       "      <td>0.567701</td>\n",
       "      <td>0.567106</td>\n",
       "      <td>0.585243</td>\n",
       "      <td>0.574960</td>\n",
       "      <td>0.578529</td>\n",
       "      <td>...</td>\n",
       "      <td>0.383572</td>\n",
       "      <td>0.373445</td>\n",
       "      <td>0.584007</td>\n",
       "      <td>0.547758</td>\n",
       "      <td>0.724479</td>\n",
       "      <td>0.695663</td>\n",
       "      <td>0.745148</td>\n",
       "      <td>0.721174</td>\n",
       "      <td>0.768436</td>\n",
       "      <td>0.734995</td>\n",
       "    </tr>\n",
       "    <tr>\n",
       "      <th>1028</th>\n",
       "      <td>0.490573</td>\n",
       "      <td>0.493132</td>\n",
       "      <td>0.495253</td>\n",
       "      <td>0.497387</td>\n",
       "      <td>0.489989</td>\n",
       "      <td>0.489996</td>\n",
       "      <td>0.489953</td>\n",
       "      <td>0.511873</td>\n",
       "      <td>0.500842</td>\n",
       "      <td>0.500617</td>\n",
       "      <td>...</td>\n",
       "      <td>0.560284</td>\n",
       "      <td>0.552065</td>\n",
       "      <td>0.688601</td>\n",
       "      <td>0.664322</td>\n",
       "      <td>0.807368</td>\n",
       "      <td>0.814917</td>\n",
       "      <td>0.829953</td>\n",
       "      <td>0.845044</td>\n",
       "      <td>0.840853</td>\n",
       "      <td>0.836050</td>\n",
       "    </tr>\n",
       "    <tr>\n",
       "      <th>1029</th>\n",
       "      <td>0.591598</td>\n",
       "      <td>0.592754</td>\n",
       "      <td>0.593731</td>\n",
       "      <td>0.594755</td>\n",
       "      <td>0.593810</td>\n",
       "      <td>0.596291</td>\n",
       "      <td>0.598644</td>\n",
       "      <td>0.613497</td>\n",
       "      <td>0.619445</td>\n",
       "      <td>0.604766</td>\n",
       "      <td>...</td>\n",
       "      <td>0.322386</td>\n",
       "      <td>0.299491</td>\n",
       "      <td>0.291320</td>\n",
       "      <td>0.237735</td>\n",
       "      <td>0.474226</td>\n",
       "      <td>0.423493</td>\n",
       "      <td>0.493546</td>\n",
       "      <td>0.442418</td>\n",
       "      <td>0.534202</td>\n",
       "      <td>0.485119</td>\n",
       "    </tr>\n",
       "  </tbody>\n",
       "</table>\n",
       "<p>1030 rows × 66 columns</p>\n",
       "</div>"
      ],
      "text/plain": [
       "             0         1         2         3         4         5         6  \\\n",
       "0     0.485436  0.491076  0.492672  0.495898  0.484701  0.480690  0.478701   \n",
       "1     0.538939  0.541082  0.545321  0.548543  0.531356  0.526921  0.523388   \n",
       "2     0.538487  0.540775  0.545152  0.548587  0.531299  0.527188  0.523476   \n",
       "3     0.534376  0.536909  0.541130  0.544502  0.526705  0.522845  0.519051   \n",
       "4     0.534185  0.536881  0.540584  0.544362  0.526786  0.523106  0.519260   \n",
       "...        ...       ...       ...       ...       ...       ...       ...   \n",
       "1025  0.601386  0.599138  0.594523  0.591196  0.609900  0.613605  0.619883   \n",
       "1026  0.603582  0.608215  0.611376  0.614838  0.600846  0.598566  0.595752   \n",
       "1027  0.570172  0.571512  0.573297  0.575214  0.568169  0.567701  0.567106   \n",
       "1028  0.490573  0.493132  0.495253  0.497387  0.489989  0.489996  0.489953   \n",
       "1029  0.591598  0.592754  0.593731  0.594755  0.593810  0.596291  0.598644   \n",
       "\n",
       "             7         8         9  ...        56        57        58  \\\n",
       "0     0.504215  0.459930  0.489268  ...  0.241237  0.233786  0.379103   \n",
       "1     0.547487  0.514275  0.544556  ...  0.511923  0.514108  0.701264   \n",
       "2     0.547310  0.514200  0.543122  ...  0.501320  0.503325  0.696693   \n",
       "3     0.545624  0.510163  0.539722  ...  0.507434  0.506629  0.699450   \n",
       "4     0.544385  0.510132  0.538679  ...  0.507436  0.507225  0.698847   \n",
       "...        ...       ...       ...  ...       ...       ...       ...   \n",
       "1025  0.585218  0.629909  0.594849  ...  0.455367  0.444362  0.647013   \n",
       "1026  0.622950  0.596521  0.611484  ...  0.496380  0.491298  0.646302   \n",
       "1027  0.585243  0.574960  0.578529  ...  0.383572  0.373445  0.584007   \n",
       "1028  0.511873  0.500842  0.500617  ...  0.560284  0.552065  0.688601   \n",
       "1029  0.613497  0.619445  0.604766  ...  0.322386  0.299491  0.291320   \n",
       "\n",
       "            59        60        61        62        63        64        65  \n",
       "0     0.349344  0.448858  0.410068  0.448141  0.406550  0.516652  0.473009  \n",
       "1     0.701886  0.863484  0.874072  0.884246  0.893225  0.921288  0.937136  \n",
       "2     0.699625  0.863796  0.872697  0.888294  0.895021  0.923210  0.938202  \n",
       "3     0.697273  0.863291  0.869558  0.888832  0.893996  0.922597  0.932775  \n",
       "4     0.701406  0.861969  0.870711  0.886882  0.894640  0.920795  0.934262  \n",
       "...        ...       ...       ...       ...       ...       ...       ...  \n",
       "1025  0.679698  0.835275  0.910994  0.878211  0.929477  0.877495  0.928804  \n",
       "1026  0.634541  0.805225  0.786427  0.828163  0.812358  0.840161  0.815633  \n",
       "1027  0.547758  0.724479  0.695663  0.745148  0.721174  0.768436  0.734995  \n",
       "1028  0.664322  0.807368  0.814917  0.829953  0.845044  0.840853  0.836050  \n",
       "1029  0.237735  0.474226  0.423493  0.493546  0.442418  0.534202  0.485119  \n",
       "\n",
       "[1030 rows x 66 columns]"
      ]
     },
     "execution_count": 32,
     "metadata": {},
     "output_type": "execute_result"
    }
   ],
   "source": [
    "stand"
   ]
  },
  {
   "cell_type": "code",
   "execution_count": 13,
   "metadata": {},
   "outputs": [],
   "source": [
    "sit['label'] = [0 for i in range(len(sit))]\n",
    "stand['label'] = [1 for i in range(len(stand))]\n",
    "lie['label'] = [2 for i in range(len(lie))]"
   ]
  },
  {
   "cell_type": "code",
   "execution_count": 15,
   "metadata": {},
   "outputs": [
    {
     "data": {
      "text/plain": [
       "['SIT', 'STAND', 'LIE']"
      ]
     },
     "execution_count": 15,
     "metadata": {},
     "output_type": "execute_result"
    }
   ],
   "source": [
    "['SIT', 'STAND', 'LIE']"
   ]
  },
  {
   "cell_type": "code",
   "execution_count": 14,
   "metadata": {},
   "outputs": [
    {
     "data": {
      "text/plain": [
       "(1614, 1030, 790)"
      ]
     },
     "execution_count": 14,
     "metadata": {},
     "output_type": "execute_result"
    }
   ],
   "source": [
    "len(sit), len(stand), len(lie)"
   ]
  },
  {
   "cell_type": "code",
   "execution_count": 16,
   "metadata": {},
   "outputs": [],
   "source": [
    "from sklearn.model_selection import train_test_split"
   ]
  },
  {
   "cell_type": "code",
   "execution_count": 124,
   "metadata": {},
   "outputs": [],
   "source": [
    "rd = 20\n",
    "train_lie, test_lie = train_test_split(lie, test_size=0.2, random_state=rd)\n",
    "train_stand, test_stand = train_test_split(stand, test_size=0.2, random_state=rd)\n",
    "train_sit, test_sit = train_test_split(sit, test_size=0.4, random_state=rd)"
   ]
  },
  {
   "cell_type": "code",
   "execution_count": 125,
   "metadata": {},
   "outputs": [],
   "source": [
    "# train = pd.concat([sit, stand, lie]).reset_index().sample(frac=1)\n",
    "\n",
    "train = pd.concat([train_lie, train_stand, train_sit]).reset_index().sample(frac=1)\n",
    "test = pd.concat([test_lie, test_stand, test_sit]).reset_index().sample(frac=1)\n",
    "\n",
    "# train = pd.concat([train_lie, train_stand]).reset_index().sample(frac=1)\n",
    "# test = pd.concat([test_lie, test_stand]).reset_index().sample(frac=1)"
   ]
  },
  {
   "cell_type": "code",
   "execution_count": 126,
   "metadata": {},
   "outputs": [
    {
     "data": {
      "text/plain": [
       "label\n",
       "0    968\n",
       "1    824\n",
       "2    632\n",
       "Name: count, dtype: int64"
      ]
     },
     "execution_count": 126,
     "metadata": {},
     "output_type": "execute_result"
    }
   ],
   "source": [
    "train.label.value_counts()"
   ]
  },
  {
   "cell_type": "code",
   "execution_count": 127,
   "metadata": {},
   "outputs": [
    {
     "data": {
      "text/plain": [
       "label\n",
       "0    646\n",
       "1    206\n",
       "2    158\n",
       "Name: count, dtype: int64"
      ]
     },
     "execution_count": 127,
     "metadata": {},
     "output_type": "execute_result"
    }
   ],
   "source": [
    "test.label.value_counts()"
   ]
  },
  {
   "cell_type": "code",
   "execution_count": 128,
   "metadata": {},
   "outputs": [],
   "source": [
    "train.drop(columns=['index'], inplace=True)\n",
    "test.drop(columns=['index'], inplace=True)"
   ]
  },
  {
   "cell_type": "code",
   "execution_count": 129,
   "metadata": {},
   "outputs": [],
   "source": [
    "import numpy as np\n",
    "from sklearn import datasets\n",
    "from sklearn.model_selection import train_test_split\n",
    "from sklearn.preprocessing import StandardScaler\n",
    "from sklearn.svm import SVC\n",
    "from sklearn.tree import DecisionTreeClassifier\n",
    "from sklearn.neighbors import KNeighborsClassifier\n",
    "from sklearn.metrics import accuracy_score, classification_report , f1_score"
   ]
  },
  {
   "cell_type": "code",
   "execution_count": 130,
   "metadata": {},
   "outputs": [
    {
     "data": {
      "text/plain": [
       "label\n",
       "0    968\n",
       "1    824\n",
       "2    632\n",
       "Name: count, dtype: int64"
      ]
     },
     "execution_count": 130,
     "metadata": {},
     "output_type": "execute_result"
    }
   ],
   "source": [
    "train.label.value_counts()"
   ]
  },
  {
   "cell_type": "code",
   "execution_count": 131,
   "metadata": {},
   "outputs": [],
   "source": [
    "X_train, y_train = train.loc[:, train.columns != 'label'], train.label"
   ]
  },
  {
   "cell_type": "code",
   "execution_count": 132,
   "metadata": {},
   "outputs": [],
   "source": [
    "X_test, y_test = test.loc[:, test.columns != 'label'], test.label"
   ]
  },
  {
   "cell_type": "code",
   "execution_count": 133,
   "metadata": {},
   "outputs": [],
   "source": [
    "X_train = X_train.fillna(0.)"
   ]
  },
  {
   "cell_type": "code",
   "execution_count": 134,
   "metadata": {},
   "outputs": [],
   "source": [
    "X_test = X_test.fillna(0.)"
   ]
  },
  {
   "cell_type": "code",
   "execution_count": 135,
   "metadata": {},
   "outputs": [
    {
     "data": {
      "text/html": [
       "<div>\n",
       "<style scoped>\n",
       "    .dataframe tbody tr th:only-of-type {\n",
       "        vertical-align: middle;\n",
       "    }\n",
       "\n",
       "    .dataframe tbody tr th {\n",
       "        vertical-align: top;\n",
       "    }\n",
       "\n",
       "    .dataframe thead th {\n",
       "        text-align: right;\n",
       "    }\n",
       "</style>\n",
       "<table border=\"1\" class=\"dataframe\">\n",
       "  <thead>\n",
       "    <tr style=\"text-align: right;\">\n",
       "      <th></th>\n",
       "      <th>0</th>\n",
       "      <th>1</th>\n",
       "      <th>2</th>\n",
       "      <th>3</th>\n",
       "      <th>4</th>\n",
       "      <th>5</th>\n",
       "      <th>6</th>\n",
       "      <th>7</th>\n",
       "      <th>8</th>\n",
       "      <th>9</th>\n",
       "      <th>...</th>\n",
       "      <th>56</th>\n",
       "      <th>57</th>\n",
       "      <th>58</th>\n",
       "      <th>59</th>\n",
       "      <th>60</th>\n",
       "      <th>61</th>\n",
       "      <th>62</th>\n",
       "      <th>63</th>\n",
       "      <th>64</th>\n",
       "      <th>65</th>\n",
       "    </tr>\n",
       "  </thead>\n",
       "  <tbody>\n",
       "    <tr>\n",
       "      <th>951</th>\n",
       "      <td>0.587813</td>\n",
       "      <td>0.583584</td>\n",
       "      <td>0.581475</td>\n",
       "      <td>0.579009</td>\n",
       "      <td>0.584796</td>\n",
       "      <td>0.583926</td>\n",
       "      <td>0.583184</td>\n",
       "      <td>0.565693</td>\n",
       "      <td>0.573137</td>\n",
       "      <td>0.581493</td>\n",
       "      <td>...</td>\n",
       "      <td>0.471039</td>\n",
       "      <td>0.472045</td>\n",
       "      <td>0.640441</td>\n",
       "      <td>0.658686</td>\n",
       "      <td>0.814191</td>\n",
       "      <td>0.832700</td>\n",
       "      <td>0.846633</td>\n",
       "      <td>0.866205</td>\n",
       "      <td>0.837290</td>\n",
       "      <td>0.854245</td>\n",
       "    </tr>\n",
       "    <tr>\n",
       "      <th>1159</th>\n",
       "      <td>0.572711</td>\n",
       "      <td>0.577464</td>\n",
       "      <td>0.580825</td>\n",
       "      <td>0.583975</td>\n",
       "      <td>0.570834</td>\n",
       "      <td>0.569038</td>\n",
       "      <td>0.566788</td>\n",
       "      <td>0.591518</td>\n",
       "      <td>0.568646</td>\n",
       "      <td>0.580671</td>\n",
       "      <td>...</td>\n",
       "      <td>0.445807</td>\n",
       "      <td>0.440084</td>\n",
       "      <td>0.594835</td>\n",
       "      <td>0.583558</td>\n",
       "      <td>0.734215</td>\n",
       "      <td>0.721509</td>\n",
       "      <td>0.755424</td>\n",
       "      <td>0.744418</td>\n",
       "      <td>0.781708</td>\n",
       "      <td>0.749143</td>\n",
       "    </tr>\n",
       "    <tr>\n",
       "      <th>499</th>\n",
       "      <td>0.328364</td>\n",
       "      <td>0.323539</td>\n",
       "      <td>0.324585</td>\n",
       "      <td>0.325681</td>\n",
       "      <td>0.322003</td>\n",
       "      <td>0.321896</td>\n",
       "      <td>0.321756</td>\n",
       "      <td>0.334395</td>\n",
       "      <td>0.330294</td>\n",
       "      <td>0.337757</td>\n",
       "      <td>...</td>\n",
       "      <td>0.719927</td>\n",
       "      <td>0.697558</td>\n",
       "      <td>0.718367</td>\n",
       "      <td>0.685112</td>\n",
       "      <td>0.658409</td>\n",
       "      <td>0.639418</td>\n",
       "      <td>0.635751</td>\n",
       "      <td>0.625360</td>\n",
       "      <td>0.695363</td>\n",
       "      <td>0.675597</td>\n",
       "    </tr>\n",
       "    <tr>\n",
       "      <th>1921</th>\n",
       "      <td>0.672940</td>\n",
       "      <td>0.668315</td>\n",
       "      <td>0.666582</td>\n",
       "      <td>0.664650</td>\n",
       "      <td>0.668785</td>\n",
       "      <td>0.667541</td>\n",
       "      <td>0.666264</td>\n",
       "      <td>0.651716</td>\n",
       "      <td>0.655857</td>\n",
       "      <td>0.667265</td>\n",
       "      <td>...</td>\n",
       "      <td>0.621595</td>\n",
       "      <td>0.631795</td>\n",
       "      <td>0.662324</td>\n",
       "      <td>0.649763</td>\n",
       "      <td>0.781202</td>\n",
       "      <td>0.801735</td>\n",
       "      <td>0.810307</td>\n",
       "      <td>0.833799</td>\n",
       "      <td>0.805228</td>\n",
       "      <td>0.824260</td>\n",
       "    </tr>\n",
       "    <tr>\n",
       "      <th>1566</th>\n",
       "      <td>0.617906</td>\n",
       "      <td>0.626445</td>\n",
       "      <td>0.632159</td>\n",
       "      <td>0.638045</td>\n",
       "      <td>0.617523</td>\n",
       "      <td>0.615800</td>\n",
       "      <td>0.614070</td>\n",
       "      <td>0.655294</td>\n",
       "      <td>0.621908</td>\n",
       "      <td>0.629123</td>\n",
       "      <td>...</td>\n",
       "      <td>0.683112</td>\n",
       "      <td>0.660099</td>\n",
       "      <td>0.600559</td>\n",
       "      <td>0.574158</td>\n",
       "      <td>0.791027</td>\n",
       "      <td>0.774635</td>\n",
       "      <td>0.852240</td>\n",
       "      <td>0.835758</td>\n",
       "      <td>0.747339</td>\n",
       "      <td>0.749624</td>\n",
       "    </tr>\n",
       "  </tbody>\n",
       "</table>\n",
       "<p>5 rows × 66 columns</p>\n",
       "</div>"
      ],
      "text/plain": [
       "             0         1         2         3         4         5         6  \\\n",
       "951   0.587813  0.583584  0.581475  0.579009  0.584796  0.583926  0.583184   \n",
       "1159  0.572711  0.577464  0.580825  0.583975  0.570834  0.569038  0.566788   \n",
       "499   0.328364  0.323539  0.324585  0.325681  0.322003  0.321896  0.321756   \n",
       "1921  0.672940  0.668315  0.666582  0.664650  0.668785  0.667541  0.666264   \n",
       "1566  0.617906  0.626445  0.632159  0.638045  0.617523  0.615800  0.614070   \n",
       "\n",
       "             7         8         9  ...        56        57        58  \\\n",
       "951   0.565693  0.573137  0.581493  ...  0.471039  0.472045  0.640441   \n",
       "1159  0.591518  0.568646  0.580671  ...  0.445807  0.440084  0.594835   \n",
       "499   0.334395  0.330294  0.337757  ...  0.719927  0.697558  0.718367   \n",
       "1921  0.651716  0.655857  0.667265  ...  0.621595  0.631795  0.662324   \n",
       "1566  0.655294  0.621908  0.629123  ...  0.683112  0.660099  0.600559   \n",
       "\n",
       "            59        60        61        62        63        64        65  \n",
       "951   0.658686  0.814191  0.832700  0.846633  0.866205  0.837290  0.854245  \n",
       "1159  0.583558  0.734215  0.721509  0.755424  0.744418  0.781708  0.749143  \n",
       "499   0.685112  0.658409  0.639418  0.635751  0.625360  0.695363  0.675597  \n",
       "1921  0.649763  0.781202  0.801735  0.810307  0.833799  0.805228  0.824260  \n",
       "1566  0.574158  0.791027  0.774635  0.852240  0.835758  0.747339  0.749624  \n",
       "\n",
       "[5 rows x 66 columns]"
      ]
     },
     "execution_count": 135,
     "metadata": {},
     "output_type": "execute_result"
    }
   ],
   "source": [
    "X_train.head()"
   ]
  },
  {
   "cell_type": "code",
   "execution_count": 147,
   "metadata": {},
   "outputs": [
    {
     "name": "stdout",
     "output_type": "stream",
     "text": [
      "Accuracy: 0.9643564356435643\n",
      "F1 Score: 0.96\n",
      "Classification report: \n",
      "              precision    recall  f1-score   support\n",
      "\n",
      "           0       0.98      0.96      0.97       646\n",
      "           1       0.90      0.97      0.93       206\n",
      "           2       0.97      0.97      0.97       158\n",
      "\n",
      "    accuracy                           0.96      1010\n",
      "   macro avg       0.95      0.97      0.96      1010\n",
      "weighted avg       0.97      0.96      0.96      1010\n",
      "\n"
     ]
    }
   ],
   "source": [
    "# Tạo mô hình SVM với kernel phi tuyến tính\n",
    "svm_model = SVC(kernel='poly')\n",
    "\n",
    "# Huấn luyện mô hình trên tập huấn luyện\n",
    "svm_model.fit(X_train, y_train)\n",
    "\n",
    "# # Dự đoán trên tập kiểm tra\n",
    "y_pred = svm_model.predict(X_test)\n",
    "\n",
    "# Đánh giá mô hình\n",
    "accuracy = accuracy_score(y_test, y_pred)\n",
    "print(f'Accuracy: {accuracy}')\n",
    "\n",
    "f1_Score = f1_score(y_test, y_pred, average='weighted')\n",
    "print(f'F1 Score: {f1_Score:.2f}')\n",
    "\n",
    "print(\"Classification report: \")\n",
    "print(classification_report(y_test, y_pred))"
   ]
  },
  {
   "cell_type": "code",
   "execution_count": 79,
   "metadata": {},
   "outputs": [
    {
     "name": "stdout",
     "output_type": "stream",
     "text": [
      "Accuracy: 0.95\n",
      "F1 Score: 0.95\n",
      "Classification Report:\n",
      "              precision    recall  f1-score   support\n",
      "\n",
      "           0       0.99      0.94      0.96       646\n",
      "           1       0.84      0.98      0.90       206\n",
      "           2       0.97      0.96      0.97       158\n",
      "\n",
      "    accuracy                           0.95      1010\n",
      "   macro avg       0.93      0.96      0.94      1010\n",
      "weighted avg       0.95      0.95      0.95      1010\n",
      "\n"
     ]
    }
   ],
   "source": [
    "# Sử dụng KNN\n",
    "knn_model = KNeighborsClassifier(n_neighbors=5)\n",
    "\n",
    "# Huấn luyện mô hình\n",
    "knn_model.fit(X_train, y_train)\n",
    "\n",
    "# Dự đoán trên tập kiểm tra\n",
    "y_pred = knn_model.predict(X_test)\n",
    "\n",
    "# Đánh giá mô hình\n",
    "accuracy = accuracy_score(y_test, y_pred)\n",
    "print(f'Accuracy: {accuracy:.2f}')\n",
    "f1_Score = f1_score(y_test, y_pred, average='weighted')\n",
    "print(f'F1 Score: {f1_Score:.2f}')\n",
    "# Hiển thị báo cáo phân loại\n",
    "print('Classification Report:')\n",
    "print(classification_report(y_test, y_pred))\n",
    "\n",
    "\n"
   ]
  },
  {
   "cell_type": "code",
   "execution_count": 80,
   "metadata": {},
   "outputs": [
    {
     "name": "stdout",
     "output_type": "stream",
     "text": [
      "Accuracy: 0.97\n",
      "F1 Score: 0.97\n",
      "Classification Report:\n",
      "              precision    recall  f1-score   support\n",
      "\n",
      "           0       0.98      0.97      0.98       646\n",
      "           1       0.94      0.99      0.96       206\n",
      "           2       0.96      0.95      0.95       158\n",
      "\n",
      "    accuracy                           0.97      1010\n",
      "   macro avg       0.96      0.97      0.96      1010\n",
      "weighted avg       0.97      0.97      0.97      1010\n",
      "\n"
     ]
    }
   ],
   "source": [
    "# Sử dụng mô hình Decision Tree\n",
    "# Tạo mô hình Decision Tree\n",
    "dt_model = DecisionTreeClassifier()\n",
    "\n",
    "# Huấn luyện mô hình trên tập huấn luyện\n",
    "dt_model.fit(X_train, y_train)\n",
    "\n",
    "# Dự đoán trên tập kiểm tra\n",
    "y_pred = dt_model.predict(X_test)\n",
    "\n",
    "# Đánh giá mô hình\n",
    "accuracy = accuracy_score(y_test, y_pred)\n",
    "print(f'Accuracy: {accuracy:.2f}')\n",
    "f1_Score = f1_score(y_test, y_pred, average='weighted')\n",
    "print(f'F1 Score: {f1_Score:.2f}')\n",
    "# Hiển thị báo cáo phân loại\n",
    "print('Classification Report:')\n",
    "print(classification_report(y_test, y_pred))"
   ]
  },
  {
   "cell_type": "code",
   "execution_count": 31,
   "metadata": {},
   "outputs": [
    {
     "name": "stdout",
     "output_type": "stream",
     "text": [
      "Accuracy: 0.94\n"
     ]
    }
   ],
   "source": [
    "from sklearn.linear_model import LogisticRegression\n",
    "\n",
    "# Tạo mô hình Logistic Regression\n",
    "lr_model = LogisticRegression()\n",
    "\n",
    "# Huấn luyện mô hình trên tập huấn luyện\n",
    "lr_model.fit(X_train, y_train)\n",
    "\n",
    "# Dự đoán trên tập kiểm tra\n",
    "y_pred = lr_model.predict(X_test)\n",
    "\n",
    "# Đánh giá mô hình\n",
    "accuracy = accuracy_score(y_test, y_pred)\n",
    "print(f'Accuracy: {accuracy:.2f}')"
   ]
  },
  {
   "cell_type": "markdown",
   "metadata": {},
   "source": [
    "# Lưu mô hình SVM đã huấn luyện"
   ]
  },
  {
   "cell_type": "code",
   "execution_count": 62,
   "metadata": {},
   "outputs": [],
   "source": [
    "import pickle\n",
    "\n",
    "pickle_file = \"svm_model_sit_stand_lie.pkl\"\n",
    "with open(pickle_file, 'wb') as file:\n",
    "    pickle.dump(svm_model, file)\n"
   ]
  },
  {
   "cell_type": "code",
   "execution_count": 147,
   "metadata": {},
   "outputs": [],
   "source": [
    "n_features = X_train.shape[1]\n",
    "d = svm_model.degree\n",
    "gamma = 1 / (n_features * np.array(X_train).var())\n",
    "r = svm_model.coef0\n",
    "bias = svm_model.intercept_\n",
    "# Lấy các vector hỗ trợ từ mô hình SVM\n",
    "support_vectors = svm_model.support_vectors_\n",
    "\n",
    "# Lấy các hệ số Lagrange tương ứng với các vector hỗ trợ\n",
    "dual_coef = svm_model.dual_coef_"
   ]
  },
  {
   "cell_type": "code",
   "execution_count": 148,
   "metadata": {},
   "outputs": [],
   "source": [
    "weight = {\n",
    "    \"gamma\": gamma, \n",
    "    \"r\": r, \n",
    "    \"bias\": bias[0], \n",
    "    'd': d, \n",
    "    \"support_vectors\": support_vectors.tolist(), \n",
    "    \"dual_coef\": dual_coef.tolist()\n",
    "}"
   ]
  },
  {
   "cell_type": "code",
   "execution_count": 149,
   "metadata": {},
   "outputs": [],
   "source": [
    "import json\n",
    "# Lưu dictionary vào một file JSON \n",
    "with open('svm_weights_sit_lie_stand.json', 'w') as json_file:\n",
    "    json.dump(weight, json_file)"
   ]
  },
  {
   "cell_type": "code",
   "execution_count": 157,
   "metadata": {},
   "outputs": [
    {
     "data": {
      "text/plain": [
       "(255, 66)"
      ]
     },
     "execution_count": 157,
     "metadata": {},
     "output_type": "execute_result"
    }
   ],
   "source": [
    "np.array(weight['support_vectors']).shape"
   ]
  },
  {
   "cell_type": "markdown",
   "metadata": {},
   "source": [
    "### TESTING"
   ]
  },
  {
   "cell_type": "code",
   "execution_count": 126,
   "metadata": {},
   "outputs": [],
   "source": [
    "# Tải lại mô hình SVM đã lưu\n",
    "pickle_file = \"svm_model_sit_stand_lie.pkl\"\n",
    "with open(pickle_file, 'rb') as file:\n",
    "    loaded_svm_model = pickle.load(file)"
   ]
  },
  {
   "cell_type": "code",
   "execution_count": 83,
   "metadata": {},
   "outputs": [],
   "source": [
    "# with open('svm_weights_lie_stand.json', 'r') as json_file:\n",
    "#     weight = json.load(json_file)"
   ]
  },
  {
   "cell_type": "code",
   "execution_count": 98,
   "metadata": {},
   "outputs": [],
   "source": [
    "# with open('svm_weights_sit_lie_stand.json', 'r') as json_file:\n",
    "#     weight = json.load(json_file)"
   ]
  },
  {
   "cell_type": "code",
   "execution_count": 99,
   "metadata": {},
   "outputs": [
    {
     "data": {
      "text/plain": [
       "(255, 66)"
      ]
     },
     "execution_count": 99,
     "metadata": {},
     "output_type": "execute_result"
    }
   ],
   "source": [
    "# np.array(weight['support_vectors']).shape"
   ]
  },
  {
   "cell_type": "code",
   "execution_count": 101,
   "metadata": {},
   "outputs": [
    {
     "data": {
      "text/plain": [
       "(2, 255)"
      ]
     },
     "execution_count": 101,
     "metadata": {},
     "output_type": "execute_result"
    }
   ],
   "source": [
    "# np.array(weight['dual_coef']).shape"
   ]
  },
  {
   "cell_type": "code",
   "execution_count": 102,
   "metadata": {},
   "outputs": [
    {
     "data": {
      "text/plain": [
       "array(0.44691205)"
      ]
     },
     "execution_count": 102,
     "metadata": {},
     "output_type": "execute_result"
    }
   ],
   "source": [
    "# np.array(weight['gamma'])"
   ]
  },
  {
   "cell_type": "code",
   "execution_count": 127,
   "metadata": {},
   "outputs": [],
   "source": [
    "# def kernel(x, x_hat):\n",
    "#     return (weight['gamma'] * np.dot(x, x_hat) + weight['r']) ** weight['d']\n",
    "\n",
    "# def predict(X):\n",
    "#     s = 0\n",
    "#     for dual, sv in zip(weight['dual_coef'][0], weight['support_vectors']):\n",
    "#         s += dual * kernel(sv, X)\n",
    "#     # Thêm độ dời (bias)\n",
    "#     s += weight['bias']\n",
    "#     return int(s > 0)\n"
   ]
  },
  {
   "cell_type": "code",
   "execution_count": 158,
   "metadata": {},
   "outputs": [],
   "source": [
    "X_test = np.array(X_test)"
   ]
  },
  {
   "cell_type": "code",
   "execution_count": 159,
   "metadata": {},
   "outputs": [],
   "source": [
    "# y_pred = [predict(x) for x in X_test]"
   ]
  },
  {
   "cell_type": "code",
   "execution_count": 160,
   "metadata": {},
   "outputs": [],
   "source": [
    "y_pred = loaded_svm_model.predict(X_test)"
   ]
  },
  {
   "cell_type": "code",
   "execution_count": 163,
   "metadata": {},
   "outputs": [
    {
     "data": {
      "text/plain": [
       "label\n",
       "0    313\n",
       "1    114\n",
       "2     78\n",
       "Name: count, dtype: int64"
      ]
     },
     "execution_count": 163,
     "metadata": {},
     "output_type": "execute_result"
    }
   ],
   "source": [
    "pd.DataFrame(y_pred, columns=['label']).label.value_counts()"
   ]
  },
  {
   "cell_type": "code",
   "execution_count": 164,
   "metadata": {},
   "outputs": [
    {
     "data": {
      "text/plain": [
       "label\n",
       "0    323\n",
       "1    103\n",
       "2     79\n",
       "Name: count, dtype: int64"
      ]
     },
     "execution_count": 164,
     "metadata": {},
     "output_type": "execute_result"
    }
   ],
   "source": [
    "pd.DataFrame(y_test, columns=['label']).label.value_counts()"
   ]
  },
  {
   "cell_type": "code",
   "execution_count": 165,
   "metadata": {},
   "outputs": [
    {
     "name": "stdout",
     "output_type": "stream",
     "text": [
      "Accuracy: 0.96\n",
      "Classification Report:\n",
      "              precision    recall  f1-score   support\n",
      "\n",
      "           0       0.98      0.95      0.97       323\n",
      "           1       0.89      0.98      0.93       103\n",
      "           2       0.97      0.96      0.97        79\n",
      "\n",
      "    accuracy                           0.96       505\n",
      "   macro avg       0.95      0.97      0.96       505\n",
      "weighted avg       0.96      0.96      0.96       505\n",
      "\n"
     ]
    }
   ],
   "source": [
    "# Đánh giá mô hình\n",
    "accuracy = accuracy_score(y_test, y_pred)\n",
    "print(f'Accuracy: {accuracy:.2f}')\n",
    "\n",
    "# Hiển thị báo cáo phân loại\n",
    "print('Classification Report:')\n",
    "print(classification_report(y_test, y_pred))"
   ]
  }
 ],
 "metadata": {
  "kernelspec": {
   "display_name": "Python 3",
   "language": "python",
   "name": "python3"
  },
  "language_info": {
   "codemirror_mode": {
    "name": "ipython",
    "version": 3
   },
   "file_extension": ".py",
   "mimetype": "text/x-python",
   "name": "python",
   "nbconvert_exporter": "python",
   "pygments_lexer": "ipython3",
   "version": "3.10.11"
  }
 },
 "nbformat": 4,
 "nbformat_minor": 2
}
